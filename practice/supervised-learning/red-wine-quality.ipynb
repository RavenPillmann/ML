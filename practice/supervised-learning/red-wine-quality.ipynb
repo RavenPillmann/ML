{
 "cells": [
  {
   "cell_type": "markdown",
   "metadata": {},
   "source": [
    "# Red Wine Quality Predictor"
   ]
  },
  {
   "cell_type": "markdown",
   "metadata": {},
   "source": [
    "In this notebook, I practice analyzing data and creating a model to predict a wine's quality based on various features."
   ]
  },
  {
   "cell_type": "markdown",
   "metadata": {},
   "source": [
    "### Data Source\n",
    "\n",
    "The wine data I'm looking at comes from the following source: https://archive.ics.uci.edu/ml/datasets/wine+quality.\n",
    "\n",
    "P. Cortez, A. Cerdeira, F. Almeida, T. Matos and J. Reis. Modeling wine preferences by data mining from physicochemical properties. In Decision Support Systems, Elsevier, 47(4):547-553, 2009."
   ]
  },
  {
   "cell_type": "markdown",
   "metadata": {},
   "source": [
    "### Data Set\n",
    "\n",
    "This data set contains the following numeric variables (descriptions are paraphrased from https://www.kaggle.com/uciml/red-wine-quality-cortez-et-al-2009/data):\n",
    "\n",
    "- *fixed acidity*: Most acids found in wine are fixed\n",
    "- *voltile acidity*: At high levels, voltile acidity leaves a vinegary taste\n",
    "- *citric acid*: Adds freshness or flavor\n",
    "- *residual sugar*: The amount of sugar left over after the wine ferments, measured in grams.\n",
    "- *chlorides*: The amount of salt in the wine.\n",
    "- *free sulfur dioxide*: The free form of SO2, which prevents microbial growth and wine oxidation.\n",
    "- *total sulfur dioxide*: The free and bound forms of S02. At high amounts, this contributes to the nose and taste.\n",
    "- *density*: The density of the wine. This varies based on alcohol and sugar contents.\n",
    "- *pH*: On a scale of 0-14, where 0 is very acidic and 14 is very basic.\n",
    "- *sulphates*: Acts as an antimicrobial and antioxidant by contributing to the S02 levels.\n",
    "- *alcohol*: Percent alcohol of the wine.\n",
    "- *quality*: (Based on sensory data), a scale of 0-10\n",
    "\n",
    "In this exercise, I will try to predict the *quality* of the wine based on the other features in the dataset."
   ]
  },
  {
   "cell_type": "markdown",
   "metadata": {},
   "source": [
    "### Data Exploration"
   ]
  },
  {
   "cell_type": "code",
   "execution_count": 1,
   "metadata": {},
   "outputs": [
    {
     "data": {
      "text/html": [
       "<div>\n",
       "<style scoped>\n",
       "    .dataframe tbody tr th:only-of-type {\n",
       "        vertical-align: middle;\n",
       "    }\n",
       "\n",
       "    .dataframe tbody tr th {\n",
       "        vertical-align: top;\n",
       "    }\n",
       "\n",
       "    .dataframe thead th {\n",
       "        text-align: right;\n",
       "    }\n",
       "</style>\n",
       "<table border=\"1\" class=\"dataframe\">\n",
       "  <thead>\n",
       "    <tr style=\"text-align: right;\">\n",
       "      <th></th>\n",
       "      <th>fixed acidity</th>\n",
       "      <th>volatile acidity</th>\n",
       "      <th>citric acid</th>\n",
       "      <th>residual sugar</th>\n",
       "      <th>chlorides</th>\n",
       "      <th>free sulfur dioxide</th>\n",
       "      <th>total sulfur dioxide</th>\n",
       "      <th>density</th>\n",
       "      <th>pH</th>\n",
       "      <th>sulphates</th>\n",
       "      <th>alcohol</th>\n",
       "      <th>quality</th>\n",
       "    </tr>\n",
       "  </thead>\n",
       "  <tbody>\n",
       "    <tr>\n",
       "      <th>0</th>\n",
       "      <td>7.4</td>\n",
       "      <td>0.70</td>\n",
       "      <td>0.00</td>\n",
       "      <td>1.9</td>\n",
       "      <td>0.076</td>\n",
       "      <td>11.0</td>\n",
       "      <td>34.0</td>\n",
       "      <td>0.9978</td>\n",
       "      <td>3.51</td>\n",
       "      <td>0.56</td>\n",
       "      <td>9.4</td>\n",
       "      <td>5</td>\n",
       "    </tr>\n",
       "    <tr>\n",
       "      <th>1</th>\n",
       "      <td>7.8</td>\n",
       "      <td>0.88</td>\n",
       "      <td>0.00</td>\n",
       "      <td>2.6</td>\n",
       "      <td>0.098</td>\n",
       "      <td>25.0</td>\n",
       "      <td>67.0</td>\n",
       "      <td>0.9968</td>\n",
       "      <td>3.20</td>\n",
       "      <td>0.68</td>\n",
       "      <td>9.8</td>\n",
       "      <td>5</td>\n",
       "    </tr>\n",
       "    <tr>\n",
       "      <th>2</th>\n",
       "      <td>7.8</td>\n",
       "      <td>0.76</td>\n",
       "      <td>0.04</td>\n",
       "      <td>2.3</td>\n",
       "      <td>0.092</td>\n",
       "      <td>15.0</td>\n",
       "      <td>54.0</td>\n",
       "      <td>0.9970</td>\n",
       "      <td>3.26</td>\n",
       "      <td>0.65</td>\n",
       "      <td>9.8</td>\n",
       "      <td>5</td>\n",
       "    </tr>\n",
       "    <tr>\n",
       "      <th>3</th>\n",
       "      <td>11.2</td>\n",
       "      <td>0.28</td>\n",
       "      <td>0.56</td>\n",
       "      <td>1.9</td>\n",
       "      <td>0.075</td>\n",
       "      <td>17.0</td>\n",
       "      <td>60.0</td>\n",
       "      <td>0.9980</td>\n",
       "      <td>3.16</td>\n",
       "      <td>0.58</td>\n",
       "      <td>9.8</td>\n",
       "      <td>6</td>\n",
       "    </tr>\n",
       "    <tr>\n",
       "      <th>4</th>\n",
       "      <td>7.4</td>\n",
       "      <td>0.70</td>\n",
       "      <td>0.00</td>\n",
       "      <td>1.9</td>\n",
       "      <td>0.076</td>\n",
       "      <td>11.0</td>\n",
       "      <td>34.0</td>\n",
       "      <td>0.9978</td>\n",
       "      <td>3.51</td>\n",
       "      <td>0.56</td>\n",
       "      <td>9.4</td>\n",
       "      <td>5</td>\n",
       "    </tr>\n",
       "  </tbody>\n",
       "</table>\n",
       "</div>"
      ],
      "text/plain": [
       "   fixed acidity  volatile acidity  citric acid  residual sugar  chlorides  \\\n",
       "0            7.4              0.70         0.00             1.9      0.076   \n",
       "1            7.8              0.88         0.00             2.6      0.098   \n",
       "2            7.8              0.76         0.04             2.3      0.092   \n",
       "3           11.2              0.28         0.56             1.9      0.075   \n",
       "4            7.4              0.70         0.00             1.9      0.076   \n",
       "\n",
       "   free sulfur dioxide  total sulfur dioxide  density    pH  sulphates  \\\n",
       "0                 11.0                  34.0   0.9978  3.51       0.56   \n",
       "1                 25.0                  67.0   0.9968  3.20       0.68   \n",
       "2                 15.0                  54.0   0.9970  3.26       0.65   \n",
       "3                 17.0                  60.0   0.9980  3.16       0.58   \n",
       "4                 11.0                  34.0   0.9978  3.51       0.56   \n",
       "\n",
       "   alcohol  quality  \n",
       "0      9.4        5  \n",
       "1      9.8        5  \n",
       "2      9.8        5  \n",
       "3      9.8        6  \n",
       "4      9.4        5  "
      ]
     },
     "execution_count": 1,
     "metadata": {},
     "output_type": "execute_result"
    }
   ],
   "source": [
    "import pandas as pd\n",
    "\n",
    "# Importing the data set and observing the first five entries\n",
    "wine_dataframe = pd.read_csv('data/winequality-red.csv', sep=';')\n",
    "wine_dataframe.head()"
   ]
  },
  {
   "cell_type": "code",
   "execution_count": 2,
   "metadata": {},
   "outputs": [],
   "source": [
    "# Separating the dataframe into y and X\n",
    "y = wine_dataframe[['quality']]\n",
    "X = wine_dataframe.drop(columns=['quality'])"
   ]
  },
  {
   "cell_type": "code",
   "execution_count": 3,
   "metadata": {},
   "outputs": [
    {
     "name": "stdout",
     "output_type": "stream",
     "text": [
      "For output variable quality: min 3, max 8, mean 5, median 6, standard deviation 0\n"
     ]
    }
   ],
   "source": [
    "import numpy as np\n",
    "\n",
    "y_min = np.amin(y)\n",
    "y_max = np.amax(y)\n",
    "y_mean = np.mean(y)\n",
    "y_median = np.median(y)\n",
    "y_std = np.std(y)\n",
    "\n",
    "print('For output variable quality: min %d, max %d, mean %d, median %d, standard deviation %d' % (y_min, y_max, y_mean, y_median, y_std))"
   ]
  },
  {
   "cell_type": "code",
   "execution_count": 4,
   "metadata": {},
   "outputs": [
    {
     "data": {
      "text/plain": [
       "<Figure size 640x480 with 1 Axes>"
      ]
     },
     "metadata": {},
     "output_type": "display_data"
    }
   ],
   "source": [
    "import matplotlib.pyplot as plt\n",
    "\n",
    "plt.hist(y.values)\n",
    "plt.title('Distribution of Quality')\n",
    "plt.xlabel('Number of Occurrences')\n",
    "plt.ylabel('Quality')\n",
    "plt.show()"
   ]
  },
  {
   "cell_type": "markdown",
   "metadata": {},
   "source": [
    "Clearly, there are far more occurrences of 5 and 6 ratings than any other value. It should also be noted that the range of values is 3-8, which is probably to be expected: it's rare to find a wine so awful that it deserves a 0 or 1, nor so good that it's a perfect 10.\n",
    "\n",
    "Although the quality is ordinal, a lot of the data is focused around a 5 or 6 rating. Also, because of the discrete values associated with the quality, I find it's more appropriate to group wine qualities together and make a model that predicts whether wine is good or not. Particulary, we can consider a wine with a rating 6 or higher to be a good wine, and wine with a rating 5 or lower to be mediocre or bad.\n",
    "\n",
    "I will start by splitting the data into two groups based on their rating."
   ]
  },
  {
   "cell_type": "code",
   "execution_count": 5,
   "metadata": {},
   "outputs": [
    {
     "data": {
      "text/html": [
       "<div>\n",
       "<style scoped>\n",
       "    .dataframe tbody tr th:only-of-type {\n",
       "        vertical-align: middle;\n",
       "    }\n",
       "\n",
       "    .dataframe tbody tr th {\n",
       "        vertical-align: top;\n",
       "    }\n",
       "\n",
       "    .dataframe thead th {\n",
       "        text-align: right;\n",
       "    }\n",
       "</style>\n",
       "<table border=\"1\" class=\"dataframe\">\n",
       "  <thead>\n",
       "    <tr style=\"text-align: right;\">\n",
       "      <th></th>\n",
       "      <th>fixed acidity</th>\n",
       "      <th>volatile acidity</th>\n",
       "      <th>citric acid</th>\n",
       "      <th>residual sugar</th>\n",
       "      <th>chlorides</th>\n",
       "      <th>free sulfur dioxide</th>\n",
       "      <th>total sulfur dioxide</th>\n",
       "      <th>density</th>\n",
       "      <th>pH</th>\n",
       "      <th>sulphates</th>\n",
       "      <th>alcohol</th>\n",
       "      <th>quality</th>\n",
       "    </tr>\n",
       "  </thead>\n",
       "  <tbody>\n",
       "    <tr>\n",
       "      <th>0</th>\n",
       "      <td>7.4</td>\n",
       "      <td>0.70</td>\n",
       "      <td>0.00</td>\n",
       "      <td>1.9</td>\n",
       "      <td>0.076</td>\n",
       "      <td>11.0</td>\n",
       "      <td>34.0</td>\n",
       "      <td>0.9978</td>\n",
       "      <td>3.51</td>\n",
       "      <td>0.56</td>\n",
       "      <td>9.4</td>\n",
       "      <td>0</td>\n",
       "    </tr>\n",
       "    <tr>\n",
       "      <th>1</th>\n",
       "      <td>7.8</td>\n",
       "      <td>0.88</td>\n",
       "      <td>0.00</td>\n",
       "      <td>2.6</td>\n",
       "      <td>0.098</td>\n",
       "      <td>25.0</td>\n",
       "      <td>67.0</td>\n",
       "      <td>0.9968</td>\n",
       "      <td>3.20</td>\n",
       "      <td>0.68</td>\n",
       "      <td>9.8</td>\n",
       "      <td>0</td>\n",
       "    </tr>\n",
       "    <tr>\n",
       "      <th>2</th>\n",
       "      <td>7.8</td>\n",
       "      <td>0.76</td>\n",
       "      <td>0.04</td>\n",
       "      <td>2.3</td>\n",
       "      <td>0.092</td>\n",
       "      <td>15.0</td>\n",
       "      <td>54.0</td>\n",
       "      <td>0.9970</td>\n",
       "      <td>3.26</td>\n",
       "      <td>0.65</td>\n",
       "      <td>9.8</td>\n",
       "      <td>0</td>\n",
       "    </tr>\n",
       "    <tr>\n",
       "      <th>3</th>\n",
       "      <td>11.2</td>\n",
       "      <td>0.28</td>\n",
       "      <td>0.56</td>\n",
       "      <td>1.9</td>\n",
       "      <td>0.075</td>\n",
       "      <td>17.0</td>\n",
       "      <td>60.0</td>\n",
       "      <td>0.9980</td>\n",
       "      <td>3.16</td>\n",
       "      <td>0.58</td>\n",
       "      <td>9.8</td>\n",
       "      <td>1</td>\n",
       "    </tr>\n",
       "    <tr>\n",
       "      <th>4</th>\n",
       "      <td>7.4</td>\n",
       "      <td>0.70</td>\n",
       "      <td>0.00</td>\n",
       "      <td>1.9</td>\n",
       "      <td>0.076</td>\n",
       "      <td>11.0</td>\n",
       "      <td>34.0</td>\n",
       "      <td>0.9978</td>\n",
       "      <td>3.51</td>\n",
       "      <td>0.56</td>\n",
       "      <td>9.4</td>\n",
       "      <td>0</td>\n",
       "    </tr>\n",
       "  </tbody>\n",
       "</table>\n",
       "</div>"
      ],
      "text/plain": [
       "   fixed acidity  volatile acidity  citric acid  residual sugar  chlorides  \\\n",
       "0            7.4              0.70         0.00             1.9      0.076   \n",
       "1            7.8              0.88         0.00             2.6      0.098   \n",
       "2            7.8              0.76         0.04             2.3      0.092   \n",
       "3           11.2              0.28         0.56             1.9      0.075   \n",
       "4            7.4              0.70         0.00             1.9      0.076   \n",
       "\n",
       "   free sulfur dioxide  total sulfur dioxide  density    pH  sulphates  \\\n",
       "0                 11.0                  34.0   0.9978  3.51       0.56   \n",
       "1                 25.0                  67.0   0.9968  3.20       0.68   \n",
       "2                 15.0                  54.0   0.9970  3.26       0.65   \n",
       "3                 17.0                  60.0   0.9980  3.16       0.58   \n",
       "4                 11.0                  34.0   0.9978  3.51       0.56   \n",
       "\n",
       "   alcohol  quality  \n",
       "0      9.4        0  \n",
       "1      9.8        0  \n",
       "2      9.8        0  \n",
       "3      9.8        1  \n",
       "4      9.4        0  "
      ]
     },
     "execution_count": 5,
     "metadata": {},
     "output_type": "execute_result"
    }
   ],
   "source": [
    "wine_dataframe['quality'] = (wine_dataframe['quality'] >= 6).apply(lambda x: int(x))\n",
    "wine_dataframe.head()"
   ]
  },
  {
   "cell_type": "code",
   "execution_count": 6,
   "metadata": {},
   "outputs": [],
   "source": [
    "y_grouped = wine_dataframe['quality']\n",
    "X_grouped = wine_dataframe.drop(columns=['quality'])"
   ]
  },
  {
   "cell_type": "markdown",
   "metadata": {},
   "source": [
    "We can explore the different values of features between good and bad wine to see if there are any notably defining features."
   ]
  },
  {
   "cell_type": "code",
   "execution_count": 7,
   "metadata": {},
   "outputs": [],
   "source": [
    "# For a given wine_df and feature, print out metrics\n",
    "def print_metrics(feature, wine_df, df_label):\n",
    "    _min = np.amin(wine_df[feature])\n",
    "    _max = np.amax(wine_df[feature])\n",
    "    _mean = np.mean(wine_df[feature])\n",
    "    _std = np.std(wine_dataframe[feature])\n",
    "    \n",
    "    print('For %s %s: min %f, max %f, mean %f, standard deviation of original df %f' % (df_label, feature, _min, _max, _mean, _std))"
   ]
  },
  {
   "cell_type": "code",
   "execution_count": 8,
   "metadata": {},
   "outputs": [
    {
     "name": "stdout",
     "output_type": "stream",
     "text": [
      "For good fixed acidity: min 4.700000, max 15.600000, mean 8.474035, standard deviation of original df 1.740552\n",
      "For bad fixed acidity: min 4.600000, max 15.900000, mean 8.142204, standard deviation of original df 1.740552\n",
      "\n",
      "For good volatile acidity: min 0.120000, max 1.040000, mean 0.474146, standard deviation of original df 0.179004\n",
      "For bad volatile acidity: min 0.180000, max 1.580000, mean 0.589503, standard deviation of original df 0.179004\n",
      "\n",
      "For good citric acid: min 0.000000, max 0.780000, mean 0.299883, standard deviation of original df 0.194740\n",
      "For bad citric acid: min 0.000000, max 1.000000, mean 0.237755, standard deviation of original df 0.194740\n",
      "\n",
      "For good residual sugar: min 0.900000, max 15.400000, mean 2.535965, standard deviation of original df 1.409487\n",
      "For bad residual sugar: min 1.200000, max 15.500000, mean 2.542070, standard deviation of original df 1.409487\n",
      "\n",
      "For good chlorides: min 0.012000, max 0.415000, mean 0.082661, standard deviation of original df 0.047051\n",
      "For bad chlorides: min 0.039000, max 0.611000, mean 0.092989, standard deviation of original df 0.047051\n",
      "\n",
      "For good free sulfur dioxide: min 1.000000, max 72.000000, mean 15.272515, standard deviation of original df 10.456886\n",
      "For bad free sulfur dioxide: min 3.000000, max 68.000000, mean 16.567204, standard deviation of original df 10.456886\n",
      "\n",
      "For good total sulfur dioxide: min 6.000000, max 289.000000, mean 39.352047, standard deviation of original df 32.885037\n",
      "For bad total sulfur dioxide: min 6.000000, max 155.000000, mean 54.645161, standard deviation of original df 32.885037\n",
      "\n",
      "For good density: min 0.990070, max 1.003690, mean 0.996467, standard deviation of original df 0.001887\n",
      "For bad density: min 0.992560, max 1.003150, mean 0.997068, standard deviation of original df 0.001887\n",
      "\n",
      "For good pH: min 2.860000, max 4.010000, mean 3.310643, standard deviation of original df 0.154338\n",
      "For bad pH: min 2.740000, max 3.900000, mean 3.311653, standard deviation of original df 0.154338\n",
      "\n",
      "For good sulphates: min 0.390000, max 1.950000, mean 0.692620, standard deviation of original df 0.169454\n",
      "For bad sulphates: min 0.330000, max 2.000000, mean 0.618535, standard deviation of original df 0.169454\n",
      "\n",
      "For good alcohol: min 8.400000, max 14.000000, mean 10.855029, standard deviation of original df 1.065334\n",
      "For bad alcohol: min 8.400000, max 14.900000, mean 9.926478, standard deviation of original df 1.065334\n",
      "\n"
     ]
    }
   ],
   "source": [
    "good_wine_df = wine_dataframe[wine_dataframe['quality'] == 1]\n",
    "bad_wine_df = wine_dataframe[wine_dataframe['quality'] == 0]\n",
    "\n",
    "for col in list(X_grouped):\n",
    "    print_metrics(col, good_wine_df, 'good')\n",
    "    print_metrics(col, bad_wine_df, 'bad')\n",
    "    print('')"
   ]
  },
  {
   "cell_type": "markdown",
   "metadata": {},
   "source": [
    "### Preprocess\n",
    "\n",
    "Normalizing the data to deal with the wide range in features:"
   ]
  },
  {
   "cell_type": "code",
   "execution_count": 9,
   "metadata": {},
   "outputs": [
    {
     "data": {
      "text/html": [
       "<div>\n",
       "<style scoped>\n",
       "    .dataframe tbody tr th:only-of-type {\n",
       "        vertical-align: middle;\n",
       "    }\n",
       "\n",
       "    .dataframe tbody tr th {\n",
       "        vertical-align: top;\n",
       "    }\n",
       "\n",
       "    .dataframe thead th {\n",
       "        text-align: right;\n",
       "    }\n",
       "</style>\n",
       "<table border=\"1\" class=\"dataframe\">\n",
       "  <thead>\n",
       "    <tr style=\"text-align: right;\">\n",
       "      <th></th>\n",
       "      <th>fixed acidity</th>\n",
       "      <th>volatile acidity</th>\n",
       "      <th>citric acid</th>\n",
       "      <th>residual sugar</th>\n",
       "      <th>chlorides</th>\n",
       "      <th>free sulfur dioxide</th>\n",
       "      <th>total sulfur dioxide</th>\n",
       "      <th>density</th>\n",
       "      <th>pH</th>\n",
       "      <th>sulphates</th>\n",
       "      <th>alcohol</th>\n",
       "    </tr>\n",
       "  </thead>\n",
       "  <tbody>\n",
       "    <tr>\n",
       "      <th>0</th>\n",
       "      <td>0.247788</td>\n",
       "      <td>0.397260</td>\n",
       "      <td>0.00</td>\n",
       "      <td>0.068493</td>\n",
       "      <td>0.106845</td>\n",
       "      <td>0.140845</td>\n",
       "      <td>0.098940</td>\n",
       "      <td>0.567548</td>\n",
       "      <td>0.606299</td>\n",
       "      <td>0.137725</td>\n",
       "      <td>0.153846</td>\n",
       "    </tr>\n",
       "    <tr>\n",
       "      <th>1</th>\n",
       "      <td>0.283186</td>\n",
       "      <td>0.520548</td>\n",
       "      <td>0.00</td>\n",
       "      <td>0.116438</td>\n",
       "      <td>0.143573</td>\n",
       "      <td>0.338028</td>\n",
       "      <td>0.215548</td>\n",
       "      <td>0.494126</td>\n",
       "      <td>0.362205</td>\n",
       "      <td>0.209581</td>\n",
       "      <td>0.215385</td>\n",
       "    </tr>\n",
       "    <tr>\n",
       "      <th>2</th>\n",
       "      <td>0.283186</td>\n",
       "      <td>0.438356</td>\n",
       "      <td>0.04</td>\n",
       "      <td>0.095890</td>\n",
       "      <td>0.133556</td>\n",
       "      <td>0.197183</td>\n",
       "      <td>0.169611</td>\n",
       "      <td>0.508811</td>\n",
       "      <td>0.409449</td>\n",
       "      <td>0.191617</td>\n",
       "      <td>0.215385</td>\n",
       "    </tr>\n",
       "    <tr>\n",
       "      <th>3</th>\n",
       "      <td>0.584071</td>\n",
       "      <td>0.109589</td>\n",
       "      <td>0.56</td>\n",
       "      <td>0.068493</td>\n",
       "      <td>0.105175</td>\n",
       "      <td>0.225352</td>\n",
       "      <td>0.190813</td>\n",
       "      <td>0.582232</td>\n",
       "      <td>0.330709</td>\n",
       "      <td>0.149701</td>\n",
       "      <td>0.215385</td>\n",
       "    </tr>\n",
       "    <tr>\n",
       "      <th>4</th>\n",
       "      <td>0.247788</td>\n",
       "      <td>0.397260</td>\n",
       "      <td>0.00</td>\n",
       "      <td>0.068493</td>\n",
       "      <td>0.106845</td>\n",
       "      <td>0.140845</td>\n",
       "      <td>0.098940</td>\n",
       "      <td>0.567548</td>\n",
       "      <td>0.606299</td>\n",
       "      <td>0.137725</td>\n",
       "      <td>0.153846</td>\n",
       "    </tr>\n",
       "  </tbody>\n",
       "</table>\n",
       "</div>"
      ],
      "text/plain": [
       "   fixed acidity  volatile acidity  citric acid  residual sugar  chlorides  \\\n",
       "0       0.247788          0.397260         0.00        0.068493   0.106845   \n",
       "1       0.283186          0.520548         0.00        0.116438   0.143573   \n",
       "2       0.283186          0.438356         0.04        0.095890   0.133556   \n",
       "3       0.584071          0.109589         0.56        0.068493   0.105175   \n",
       "4       0.247788          0.397260         0.00        0.068493   0.106845   \n",
       "\n",
       "   free sulfur dioxide  total sulfur dioxide   density        pH  sulphates  \\\n",
       "0             0.140845              0.098940  0.567548  0.606299   0.137725   \n",
       "1             0.338028              0.215548  0.494126  0.362205   0.209581   \n",
       "2             0.197183              0.169611  0.508811  0.409449   0.191617   \n",
       "3             0.225352              0.190813  0.582232  0.330709   0.149701   \n",
       "4             0.140845              0.098940  0.567548  0.606299   0.137725   \n",
       "\n",
       "    alcohol  \n",
       "0  0.153846  \n",
       "1  0.215385  \n",
       "2  0.215385  \n",
       "3  0.215385  \n",
       "4  0.153846  "
      ]
     },
     "execution_count": 9,
     "metadata": {},
     "output_type": "execute_result"
    }
   ],
   "source": [
    "from sklearn.preprocessing import MinMaxScaler\n",
    "\n",
    "scaler = MinMaxScaler()\n",
    "numerical = list(X_grouped.columns.values)\n",
    "\n",
    "X_normalized = pd.DataFrame(data = X_grouped)\n",
    "X_normalized[numerical] = scaler.fit_transform(X_grouped[numerical])\n",
    "X_normalized.head()"
   ]
  },
  {
   "cell_type": "markdown",
   "metadata": {},
   "source": [
    "### Naive Predictor\n",
    "\n",
    "We can make a naive predictor. Looking at the number of occurences of each class of wine:"
   ]
  },
  {
   "cell_type": "code",
   "execution_count": 10,
   "metadata": {},
   "outputs": [
    {
     "name": "stdout",
     "output_type": "stream",
     "text": [
      "Number of good wines, 855, number of bad wines, 744\n"
     ]
    }
   ],
   "source": [
    "print('Number of good wines, %d, number of bad wines, %d' % (good_wine_df.shape[0], bad_wine_df.shape[0]))"
   ]
  },
  {
   "cell_type": "markdown",
   "metadata": {},
   "source": [
    "There are more occurences of good wines than bad wines. Given that I'm not basing this on any previous model, my naive predictor will be to simply mark every wine as good. \n",
    "\n",
    "Ultimately, this model should help folks when buying wine. Because money is on the line, it's important that the wines we classify as good are truly good. We don't mind if some good wines are classified as bad, but we would rather not recommend bad wines as good and waste a user's money. Therefore, we want a **high precision** model. In that case, we can calculate the F-score with beta 0.5."
   ]
  },
  {
   "cell_type": "code",
   "execution_count": 11,
   "metadata": {},
   "outputs": [
    {
     "name": "stdout",
     "output_type": "stream",
     "text": [
      "F-score with beta 0.5 for the naive predictor is 0.589574\n"
     ]
    }
   ],
   "source": [
    "# recall = TP / (TP + FN)\n",
    "# precision = TP / (TP + FP)\n",
    "\n",
    "TP = good_wine_df.shape[0]\n",
    "FN = 0 # Nothing is predicted to be bad\n",
    "FP = bad_wine_df.shape[0]\n",
    "\n",
    "recall = float(TP) / (TP + FN)\n",
    "precision = float(TP) / (TP + FP)\n",
    "\n",
    "f_score = (1 + 0.5**2) * ((precision * recall)/((0.5**2)*precision + recall))\n",
    "\n",
    "print('F-score with beta 0.5 for the naive predictor is %f' % (f_score))"
   ]
  },
  {
   "cell_type": "markdown",
   "metadata": {},
   "source": [
    "The F-score for our naive predictor is 0.589. Not the best.\n",
    "\n",
    "Starting with a decision tree, we can see if we get anything better"
   ]
  },
  {
   "cell_type": "code",
   "execution_count": 12,
   "metadata": {},
   "outputs": [
    {
     "name": "stdout",
     "output_type": "stream",
     "text": [
      "F Scores - Training: 0.779240, Testing: 0.744212\n"
     ]
    }
   ],
   "source": [
    "from sklearn.model_selection import train_test_split, GridSearchCV\n",
    "from sklearn.tree import DecisionTreeClassifier\n",
    "from sklearn.metrics import fbeta_score, make_scorer\n",
    "\n",
    "# Split the data into 80% training and 20% testing sets, setting random state\n",
    "X_train, X_test, y_train, y_test = train_test_split(X_normalized, y_grouped, test_size=0.2, random_state=42, shuffle=True)\n",
    "\n",
    "# Create a f_beta_scorer and set beta to 0.5, because we want to learn towards a high precision model\n",
    "scorer = make_scorer(fbeta_score, beta=0.5)\n",
    "\n",
    "# Find some great hyperparameters, starting with arbitrarily set options\n",
    "clf = DecisionTreeClassifier(random_state=42)\n",
    "parameters = {'criterion': ['entropy', 'gini'], 'max_depth': [2, 4, 6, 8, 10], 'min_samples_leaf': [2, 4, 6, 8, 10]}\n",
    "\n",
    "grid_obj = GridSearchCV(clf, parameters, scoring=scorer)\n",
    "grid_fit = grid_obj.fit(X_normalized, y_grouped, None)\n",
    "best_clf = grid_fit.best_estimator_\n",
    "\n",
    "# Fit the model and check the fbeta_score\n",
    "best_clf.fit(X_train, y_train)\n",
    "\n",
    "y_pred_train = best_clf.predict(X_train)\n",
    "y_pred_test = best_clf.predict(X_test)\n",
    "\n",
    "f_score_train = fbeta_score(y_train, y_pred_train, 0.5)\n",
    "f_score_test = fbeta_score(y_test, y_pred_test, 0.5)\n",
    "\n",
    "print('F Scores - Training: %f, Testing: %f' % (f_score_train, f_score_test))"
   ]
  },
  {
   "cell_type": "code",
   "execution_count": 13,
   "metadata": {},
   "outputs": [
    {
     "data": {
      "text/plain": [
       "{'criterion': 'gini', 'max_depth': 4, 'min_samples_leaf': 2}"
      ]
     },
     "execution_count": 13,
     "metadata": {},
     "output_type": "execute_result"
    }
   ],
   "source": [
    "# Parameters of the best model so far\n",
    "grid_fit.best_params_"
   ]
  },
  {
   "cell_type": "markdown",
   "metadata": {},
   "source": [
    "Using these three hyperparameters in a grid search approach, we find that the best parameters with all features has an f_0.5 score of 0.744, which isn't the best but isn't a terrible first model. Certainly it's better than our naive predictor, which has an f_0.5 score of 0.589. Additionally, given how close the f-score for training and testing data is, no overfitting seems to be taking place.\n",
    "\n",
    "Next I'll try a random forest classifier to see if I can improve on this."
   ]
  },
  {
   "cell_type": "code",
   "execution_count": 17,
   "metadata": {},
   "outputs": [
    {
     "name": "stdout",
     "output_type": "stream",
     "text": [
      "F Scores - Training: 0.845990, Testing: 0.789474\n"
     ]
    }
   ],
   "source": [
    "from sklearn.ensemble import RandomForestClassifier\n",
    "\n",
    "clf_2 = RandomForestClassifier(random_state=42)\n",
    "parameters_2 = {'n_estimators': [5, 10, 20, 50], 'criterion': ['entropy', 'gini'], 'max_depth': [2, 4, 6, 8, 10], 'min_samples_leaf': [2, 4, 6, 8, 10]}\n",
    "\n",
    "grid_obj_2 = GridSearchCV(clf_2, parameters, scoring=scorer)\n",
    "grid_fit_2 = grid_obj_2.fit(X_normalized, y_grouped, None)\n",
    "best_clf_2 = grid_fit_2.best_estimator_\n",
    "\n",
    "best_clf_2.fit(X_train, y_train)\n",
    "y_pred_train_2 = best_clf_2.predict(X_train)\n",
    "y_pred_test_2 = best_clf_2.predict(X_test)\n",
    "\n",
    "f_score_train_2 = fbeta_score(y_train, y_pred_train_2, 0.5)\n",
    "f_score_test_2 = fbeta_score(y_test, y_pred_test_2, 0.5)\n",
    "\n",
    "print('F Scores - Training: %f, Testing: %f' % (f_score_train_2, f_score_test_2))"
   ]
  },
  {
   "cell_type": "code",
   "execution_count": 18,
   "metadata": {},
   "outputs": [
    {
     "data": {
      "text/plain": [
       "{'criterion': 'gini', 'max_depth': 6, 'min_samples_leaf': 8}"
      ]
     },
     "execution_count": 18,
     "metadata": {},
     "output_type": "execute_result"
    }
   ],
   "source": [
    "grid_fit_2.best_params_"
   ]
  },
  {
   "cell_type": "markdown",
   "metadata": {},
   "source": [
    "Using a random forst classifier, we were able to improve the training f-score to 0.846 and testing f-score to 0.789, which is better than the decision tree. However, it also seems like there may be a small amount of overfitting here, given the higher training score. With a difference between 0.846 and 0.789, however, it probably isn't too bad.\n",
    "\n",
    "Next I'll try an SVM."
   ]
  },
  {
   "cell_type": "code",
   "execution_count": 19,
   "metadata": {},
   "outputs": [
    {
     "name": "stdout",
     "output_type": "stream",
     "text": [
      "F Scores - Training: 0.768603, Testing: 0.771176\n"
     ]
    }
   ],
   "source": [
    "from sklearn.svm import SVC\n",
    "\n",
    "clf_3 = SVC(random_state=42)\n",
    "\n",
    "clf_3.fit(X_train, y_train)\n",
    "y_pred_train_3 = clf_3.predict(X_train)\n",
    "y_pred_test_3 = clf_3.predict(X_test)\n",
    "\n",
    "f_score_train_3 = fbeta_score(y_train, y_pred_train_3, 0.5)\n",
    "f_score_test_3 = fbeta_score(y_test, y_pred_test_3, 0.5)\n",
    "\n",
    "print('F Scores - Training: %f, Testing: %f' % (f_score_train_3, f_score_test_3))"
   ]
  },
  {
   "cell_type": "code",
   "execution_count": null,
   "metadata": {},
   "outputs": [],
   "source": []
  }
 ],
 "metadata": {
  "kernelspec": {
   "display_name": "Python 2",
   "language": "python",
   "name": "python2"
  },
  "language_info": {
   "codemirror_mode": {
    "name": "ipython",
    "version": 2
   },
   "file_extension": ".py",
   "mimetype": "text/x-python",
   "name": "python",
   "nbconvert_exporter": "python",
   "pygments_lexer": "ipython2",
   "version": "2.7.10"
  }
 },
 "nbformat": 4,
 "nbformat_minor": 2
}
