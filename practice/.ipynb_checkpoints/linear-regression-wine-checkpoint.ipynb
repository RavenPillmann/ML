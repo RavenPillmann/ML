{
 "cells": [
  {
   "cell_type": "markdown",
   "metadata": {},
   "source": [
    "# Linear Regression with Red Wine Data"
   ]
  },
  {
   "cell_type": "markdown",
   "metadata": {},
   "source": [
    "In this notebook, I practice analyzing data and creating a Linear Regression model to predict a wine's quality based on various features."
   ]
  },
  {
   "cell_type": "markdown",
   "metadata": {},
   "source": [
    "### Data Source\n",
    "\n",
    "The wine data I'm looking at comes from the following source: https://archive.ics.uci.edu/ml/datasets/wine+quality.\n",
    "\n",
    "P. Cortez, A. Cerdeira, F. Almeida, T. Matos and J. Reis. Modeling wine preferences by data mining from physicochemical properties. In Decision Support Systems, Elsevier, 47(4):547-553, 2009."
   ]
  },
  {
   "cell_type": "markdown",
   "metadata": {},
   "source": [
    "### Data Set\n",
    "\n",
    "This data set contains the following numeric variables (descriptions are paraphrased from https://www.kaggle.com/uciml/red-wine-quality-cortez-et-al-2009/data):\n",
    "\n",
    "- *fixed acidity*: Most acids found in wine are fixed\n",
    "- *voltile acidity*: At high levels, voltile acidity leaves a vinegary taste\n",
    "- *citric acid*: Adds freshness or flavor\n",
    "- *residual sugar*: The amount of sugar left over after the wine ferments, measured in grams.\n",
    "- *chlorides*: The amount of salt in the wine.\n",
    "- *free sulfur dioxide*: The free form of SO2, which prevents microbial growth and wine oxidation.\n",
    "- *total sulfur dioxide*: The free and bound forms of S02. At high amounts, this contributes to the nose and taste.\n",
    "- *density*: The density of the wine. This varies based on alcohol and sugar contents.\n",
    "- *pH*: On a scale of 0-14, where 0 is very acidic and 14 is very basic.\n",
    "- *sulphates*: Acts as an antimicrobial and antioxidant by contributing to the S02 levels.\n",
    "- *alcohol*: Percent alcohol of the wine.\n",
    "- *quality*: (Based on sensory data), a scale of 0-10\n",
    "\n",
    "In this exercise, I will try to predict the *quality* of the wine based on the other features in the dataset."
   ]
  },
  {
   "cell_type": "code",
   "execution_count": null,
   "metadata": {},
   "outputs": [],
   "source": []
  },
  {
   "cell_type": "code",
   "execution_count": null,
   "metadata": {},
   "outputs": [],
   "source": []
  }
 ],
 "metadata": {
  "kernelspec": {
   "display_name": "Python 2",
   "language": "python",
   "name": "python2"
  },
  "language_info": {
   "codemirror_mode": {
    "name": "ipython",
    "version": 2
   },
   "file_extension": ".py",
   "mimetype": "text/x-python",
   "name": "python",
   "nbconvert_exporter": "python",
   "pygments_lexer": "ipython2",
   "version": "2.7.10"
  }
 },
 "nbformat": 4,
 "nbformat_minor": 2
}
